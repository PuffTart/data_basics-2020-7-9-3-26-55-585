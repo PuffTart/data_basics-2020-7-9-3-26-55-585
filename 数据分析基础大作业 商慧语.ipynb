{
 "cells": [
  {
   "cell_type": "markdown",
   "metadata": {},
   "source": [
    "# 作业背景\n",
    "MovieLens数据集是一个广泛用来研究推荐系统算法的一个数据集。这个数据集包含了来自电影推荐网站多年积累的数据。我们将基于这个数据集练习数据的处理和分析。\n",
    "从 grouplens 下载数据集 MovieLens 25M Dataset。 数据集包含6个文件：\n",
    "\n",
    "tag.csv 用户给电影打的标签:\n",
    "userId\n",
    "movieId\n",
    "tag\n",
    "timestamp\n",
    "\n",
    "rating.csv 用户给电影的评分:\n",
    "userId\n",
    "movieId\n",
    "rating\n",
    "timestamp\n",
    "\n",
    "movie.csv 电影信息:\n",
    "movieId\n",
    "title\n",
    "genres\n",
    "\n",
    "link.csv 链接到其他资源的id:\n",
    "movieId\n",
    "imdbId\n",
    "tmbdId\n",
    "\n",
    "genome_scores.csv 电影和标签的相关性:\n",
    "movieId\n",
    "tagId\n",
    "relevance\n",
    "\n",
    "genome_tags.csv 包含标签的描述:\n",
    "tagId\n",
    "tag\n",
    "# 需求\n",
    "编写一个python程序读取此数据集的内容，并统计得到以下信息：\n",
    "\n",
    "一共有多少不同的用户\n",
    "\n",
    "一共有多少不同的电影\n",
    "\n",
    "一共有多少不同的电影种类\n",
    "\n",
    "一共有多少电影没有外部链接\n",
    "\n",
    "2018年一共有多少人进行过电影评分\n",
    "\n",
    "2018年评分5分以上的电影及其对应的标签\n",
    "\n",
    "绘制电影复仇者联盟（The Avengers）每个月评分的平均值变化曲线图\n",
    "\n",
    "# 提交方式\n",
    "github工程源代码文件链接+结果截图"
   ]
  },
  {
   "cell_type": "code",
   "execution_count": 52,
   "metadata": {},
   "outputs": [],
   "source": [
    "import pandas as pd\n",
    "import matplotlib.pyplot as plt\n",
    "import numpy as np\n",
    "import time\n",
    "%matplotlib inline"
   ]
  },
  {
   "cell_type": "code",
   "execution_count": 57,
   "metadata": {},
   "outputs": [],
   "source": [
    "df_tags = pd.read_csv(r'file/tags.csv')\n",
    "df_movies = pd.read_csv(r'file/movies.csv')\n",
    "df_links = pd.read_csv(r'file/links.csv')\n",
    "df_ratings = pd.read_csv(r'file/ratings.csv')"
   ]
  },
  {
   "cell_type": "code",
   "execution_count": 56,
   "metadata": {},
   "outputs": [
    {
     "data": {
      "text/plain": [
       "(100836, 5)"
      ]
     },
     "execution_count": 56,
     "metadata": {},
     "output_type": "execute_result"
    }
   ],
   "source": [
    "df_ratings.shape"
   ]
  },
  {
   "cell_type": "code",
   "execution_count": 15,
   "metadata": {
    "scrolled": true
   },
   "outputs": [
    {
     "data": {
      "text/plain": [
       "(   userId  movieId    tag   timestamp\n",
       " 0       2    60756  funny  1445714994,\n",
       "    movieId             title                                       genres\n",
       " 0        1  Toy Story (1995)  Adventure|Animation|Children|Comedy|Fantasy,\n",
       "    movieId  imdbId  tmdbId\n",
       " 0        1  114709   862.0,\n",
       "    userId  movieId  rating  timestamp\n",
       " 0       1        1     4.0  964982703)"
      ]
     },
     "execution_count": 15,
     "metadata": {},
     "output_type": "execute_result"
    }
   ],
   "source": [
    "df_tags.head(1),df_movies.head(1),df_links.head(1),df_ratings.head(1)"
   ]
  },
  {
   "cell_type": "code",
   "execution_count": 16,
   "metadata": {
    "scrolled": true
   },
   "outputs": [
    {
     "name": "stdout",
     "output_type": "stream",
     "text": [
      "一共有610个不同的用户；\n",
      "一共有9742个不同的电影；\n",
      "一共有20个不同的电影类型；\n",
      "一共有8个电影没有外部链接；\n",
      "2018年一共有610人进行过电影评分。\n"
     ]
    }
   ],
   "source": [
    "df_all = pd.concat([df_tags,df_ratings])   #用于判断用户数和电影数\n",
    "df_movies['genres'] = df_movies['genres'].map(lambda x:x.split('|'))\n",
    "df_new = df_movies.explode('genres')  \n",
    "len(list(df_new.groupby('genres').groups.keys()))\n",
    "print('一共有%s个不同的用户；'%len(df_all.groupby('userId')))\n",
    "print('一共有%s个不同的电影；'%len(df_all.groupby('movieId')))\n",
    "print('一共有%s个不同的电影类型；'%len(list(df_new.groupby('genres').groups.keys())))\n",
    "print('一共有%s个电影没有外部链接；'%len(df_links[np.isnan(df_links.tmdbId)]))   #isnan()只能用于判断数字类型是否为空\n",
    "# 或者使用df_links[ df_links['tmdbId'].isna()== True]\n",
    "print('2018年一共有%s人进行过电影评分。'%len(df_ratings.groupby('userId')))"
   ]
  },
  {
   "cell_type": "code",
   "execution_count": 47,
   "metadata": {
    "scrolled": false
   },
   "outputs": [
    {
     "data": {
      "text/html": [
       "<div>\n",
       "<style scoped>\n",
       "    .dataframe tbody tr th:only-of-type {\n",
       "        vertical-align: middle;\n",
       "    }\n",
       "\n",
       "    .dataframe tbody tr th {\n",
       "        vertical-align: top;\n",
       "    }\n",
       "\n",
       "    .dataframe thead th {\n",
       "        text-align: right;\n",
       "    }\n",
       "</style>\n",
       "<table border=\"1\" class=\"dataframe\">\n",
       "  <thead>\n",
       "    <tr style=\"text-align: right;\">\n",
       "      <th></th>\n",
       "      <th>index</th>\n",
       "      <th>movieId</th>\n",
       "      <th>tag</th>\n",
       "      <th>title</th>\n",
       "      <th>genres</th>\n",
       "      <th>rating</th>\n",
       "    </tr>\n",
       "  </thead>\n",
       "  <tbody>\n",
       "    <tr>\n",
       "      <th>0</th>\n",
       "      <td>765</td>\n",
       "      <td>3951</td>\n",
       "      <td>In Netflix queue</td>\n",
       "      <td>Two Family House (2000)</td>\n",
       "      <td>Drama</td>\n",
       "      <td>5.0</td>\n",
       "    </tr>\n",
       "    <tr>\n",
       "      <th>1</th>\n",
       "      <td>829</td>\n",
       "      <td>4454</td>\n",
       "      <td>claymation,creativity,dystopia,free to downloa...</td>\n",
       "      <td>More (1998)</td>\n",
       "      <td>Animation|Drama|Sci-Fi|IMAX</td>\n",
       "      <td>5.0</td>\n",
       "    </tr>\n",
       "    <tr>\n",
       "      <th>2</th>\n",
       "      <td>834</td>\n",
       "      <td>4495</td>\n",
       "      <td>New York</td>\n",
       "      <td>Crossing Delancey (1988)</td>\n",
       "      <td>Comedy|Romance</td>\n",
       "      <td>5.0</td>\n",
       "    </tr>\n",
       "    <tr>\n",
       "      <th>3</th>\n",
       "      <td>883</td>\n",
       "      <td>5088</td>\n",
       "      <td>irreverent</td>\n",
       "      <td>Going Places (Valseuses, Les) (1974)</td>\n",
       "      <td>Comedy|Crime|Drama</td>\n",
       "      <td>5.0</td>\n",
       "    </tr>\n",
       "    <tr>\n",
       "      <th>4</th>\n",
       "      <td>976</td>\n",
       "      <td>6201</td>\n",
       "      <td>England</td>\n",
       "      <td>Lady Jane (1986)</td>\n",
       "      <td>Drama|Romance</td>\n",
       "      <td>5.0</td>\n",
       "    </tr>\n",
       "    <tr>\n",
       "      <th>...</th>\n",
       "      <td>...</td>\n",
       "      <td>...</td>\n",
       "      <td>...</td>\n",
       "      <td>...</td>\n",
       "      <td>...</td>\n",
       "      <td>...</td>\n",
       "    </tr>\n",
       "    <tr>\n",
       "      <th>291</th>\n",
       "      <td>9619</td>\n",
       "      <td>176601</td>\n",
       "      <td>NaN</td>\n",
       "      <td>Black Mirror</td>\n",
       "      <td>(no genres listed)</td>\n",
       "      <td>5.0</td>\n",
       "    </tr>\n",
       "    <tr>\n",
       "      <th>292</th>\n",
       "      <td>9641</td>\n",
       "      <td>179133</td>\n",
       "      <td>NaN</td>\n",
       "      <td>Loving Vincent (2017)</td>\n",
       "      <td>Animation|Crime|Drama</td>\n",
       "      <td>5.0</td>\n",
       "    </tr>\n",
       "    <tr>\n",
       "      <th>293</th>\n",
       "      <td>9642</td>\n",
       "      <td>179135</td>\n",
       "      <td>NaN</td>\n",
       "      <td>Blue Planet II (2017)</td>\n",
       "      <td>Documentary</td>\n",
       "      <td>5.0</td>\n",
       "    </tr>\n",
       "    <tr>\n",
       "      <th>294</th>\n",
       "      <td>9692</td>\n",
       "      <td>184245</td>\n",
       "      <td>NaN</td>\n",
       "      <td>De platte jungle (1978)</td>\n",
       "      <td>Documentary</td>\n",
       "      <td>5.0</td>\n",
       "    </tr>\n",
       "    <tr>\n",
       "      <th>295</th>\n",
       "      <td>9712</td>\n",
       "      <td>187717</td>\n",
       "      <td>NaN</td>\n",
       "      <td>Won't You Be My Neighbor? (2018)</td>\n",
       "      <td>Documentary</td>\n",
       "      <td>5.0</td>\n",
       "    </tr>\n",
       "  </tbody>\n",
       "</table>\n",
       "<p>296 rows × 6 columns</p>\n",
       "</div>"
      ],
      "text/plain": [
       "     index  movieId                                                tag  \\\n",
       "0      765     3951                                   In Netflix queue   \n",
       "1      829     4454  claymation,creativity,dystopia,free to downloa...   \n",
       "2      834     4495                                           New York   \n",
       "3      883     5088                                         irreverent   \n",
       "4      976     6201                                            England   \n",
       "..     ...      ...                                                ...   \n",
       "291   9619   176601                                                NaN   \n",
       "292   9641   179133                                                NaN   \n",
       "293   9642   179135                                                NaN   \n",
       "294   9692   184245                                                NaN   \n",
       "295   9712   187717                                                NaN   \n",
       "\n",
       "                                    title                       genres  rating  \n",
       "0                 Two Family House (2000)                        Drama     5.0  \n",
       "1                             More (1998)  Animation|Drama|Sci-Fi|IMAX     5.0  \n",
       "2                Crossing Delancey (1988)               Comedy|Romance     5.0  \n",
       "3    Going Places (Valseuses, Les) (1974)           Comedy|Crime|Drama     5.0  \n",
       "4                        Lady Jane (1986)                Drama|Romance     5.0  \n",
       "..                                    ...                          ...     ...  \n",
       "291                          Black Mirror           (no genres listed)     5.0  \n",
       "292                 Loving Vincent (2017)        Animation|Crime|Drama     5.0  \n",
       "293                 Blue Planet II (2017)                  Documentary     5.0  \n",
       "294               De platte jungle (1978)                  Documentary     5.0  \n",
       "295      Won't You Be My Neighbor? (2018)                  Documentary     5.0  \n",
       "\n",
       "[296 rows x 6 columns]"
      ]
     },
     "execution_count": 47,
     "metadata": {},
     "output_type": "execute_result"
    }
   ],
   "source": [
    "# 2018年一共有多少人进行过电影评分\n",
    "df_movies_rating = pd.DataFrame( df_ratings.groupby('movieId').agg({'rating':'mean'}))\n",
    "df_movies_rating_merge = pd.merge(df_movies,df_movies_rating,on = 'movieId',how = 'outer')\n",
    "def ab(s_g):\n",
    "    return','.join(s_g.values)\n",
    "df_movies_tag = df_tags.groupby('movieId')['tag'].apply(ab)\n",
    "df_movies_tag_merge = pd.merge(df_movies_tag,df_movies_rating_merge,on = 'movieId',how = 'outer')\n",
    "df_movies_tag_merge[df_movies_tag_merge.rating == 5].reset_index()"
   ]
  },
  {
   "cell_type": "code",
   "execution_count": 54,
   "metadata": {},
   "outputs": [
    {
     "data": {
      "text/plain": [
       "'2000-07-31 02:45:03'"
      ]
     },
     "execution_count": 54,
     "metadata": {},
     "output_type": "execute_result"
    }
   ],
   "source": [
    "# 绘制电影复仇者联盟（The Avengers）每个月评分的平均值变化曲线图\n",
    "import time\n",
    "timeArray = time.localtime(964982703)   # localtime是 把从1970-1-1零点零分到当前时间系统所偏移的秒数时间转换为本地时间\n",
    "otherStyleTime = time.strftime(\"%Y-%m-%d %H:%M:%S\",timeArray)\n",
    "otherStyleTime"
   ]
  },
  {
   "cell_type": "code",
   "execution_count": 72,
   "metadata": {
    "scrolled": false
   },
   "outputs": [
    {
     "data": {
      "text/html": [
       "<div>\n",
       "<style scoped>\n",
       "    .dataframe tbody tr th:only-of-type {\n",
       "        vertical-align: middle;\n",
       "    }\n",
       "\n",
       "    .dataframe tbody tr th {\n",
       "        vertical-align: top;\n",
       "    }\n",
       "\n",
       "    .dataframe thead th {\n",
       "        text-align: right;\n",
       "    }\n",
       "</style>\n",
       "<table border=\"1\" class=\"dataframe\">\n",
       "  <thead>\n",
       "    <tr style=\"text-align: right;\">\n",
       "      <th></th>\n",
       "      <th>movieId</th>\n",
       "      <th>tag</th>\n",
       "      <th>title</th>\n",
       "      <th>genres</th>\n",
       "      <th>rating_x</th>\n",
       "      <th>rating_y</th>\n",
       "    </tr>\n",
       "  </thead>\n",
       "  <tbody>\n",
       "  </tbody>\n",
       "</table>\n",
       "</div>"
      ],
      "text/plain": [
       "Empty DataFrame\n",
       "Columns: [movieId, tag, title, genres, rating_x, rating_y]\n",
       "Index: []"
      ]
     },
     "execution_count": 72,
     "metadata": {},
     "output_type": "execute_result"
    }
   ],
   "source": [
    "def time_to_date(num):\n",
    "    timeArray = time.localtime(num)\n",
    "    otherStyleTime = time.strftime(\"%Y-%m\",timeArray)\n",
    "    return otherStyleTime\n",
    "    \n",
    "df_ratings['date'] = df_ratings.timestamp.apply(time_to_date)\n",
    "df_movies_month_rating = df_ratings.groupby(['movieId','date']).agg({'rating':'mean'})\n",
    "df_ratings_TheAvengers = pd.merge(df_movies_tag_merge,df_movies_month_rating,on = 'movieId')\n",
    "df_ratings_TheAvengers = df_ratings_TheAvengers[df_ratings_TheAvengers.title == 'Marvel\\'s The Avengers']\n",
    "df_ratings_TheAvengers\n",
    "# df_ratings_TheAvengers = df_movies_month_rating[]\n",
    "# plt.plot(df_ratings['date'],df_ratings['rating'],'--go')\n",
    "\n",
    "\n",
    "\n",
    "# plt.plot(x, y3, '--go')\n",
    "# plt.title(\"AB产品销量差\")\n",
    "# plt.grid()\n",
    "# plt.axhline(0, color='r', linestyle='--')  # 添加0的辅助参考线\n",
    "\n",
    "# data.plot(kind='line',\n",
    "#          style='--.',\n",
    "#          alpha=0.8,\n",
    "#          figsize=(10,3),\n",
    "#          title='AB产品销量对比-折线图',\n",
    "#          ax=axes[0])\n",
    "# axes[1].legend(loc='upper right')  #设置图例位置"
   ]
  }
 ],
 "metadata": {
  "kernelspec": {
   "display_name": "Python 3",
   "language": "python",
   "name": "python3"
  },
  "language_info": {
   "codemirror_mode": {
    "name": "ipython",
    "version": 3
   },
   "file_extension": ".py",
   "mimetype": "text/x-python",
   "name": "python",
   "nbconvert_exporter": "python",
   "pygments_lexer": "ipython3",
   "version": "3.7.6"
  }
 },
 "nbformat": 4,
 "nbformat_minor": 4
}
